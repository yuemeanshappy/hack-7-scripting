{
 "cells": [
  {
   "cell_type": "code",
   "execution_count": 21,
   "id": "474dd240",
   "metadata": {},
   "outputs": [
    {
     "name": "stdout",
     "output_type": "stream",
     "text": [
      "['/Users/yue/Documents/class/25Spring_programming_for_biologists/hacks/hack-7-scripting/notebooks', '/Users/yue/miniconda3/lib/python39.zip', '/Users/yue/miniconda3/lib/python3.9', '/Users/yue/miniconda3/lib/python3.9/lib-dynload', '', '/Users/yue/miniconda3/lib/python3.9/site-packages', '/Users/yue/miniconda3/lib/python3.9/site-packages/canon_cr3-13mar2019-py3.9.egg', '/Users/yue/miniconda3/lib/python3.9/site-packages/certifi-2022.12.7-py3.9.egg']\n"
     ]
    }
   ],
   "source": [
    "# import sys from the standard lib\n",
    "import sys\n",
    "print(sys.path)"
   ]
  },
  {
   "cell_type": "code",
   "execution_count": 22,
   "id": "bf2eabf5",
   "metadata": {},
   "outputs": [
    {
     "name": "stdout",
     "output_type": "stream",
     "text": [
      "['/Users/yue/Documents/class/25Spring_programming_for_biologists/hacks/hack-7-scripting/notebooks', '/Users/yue/miniconda3/lib/python39.zip', '/Users/yue/miniconda3/lib/python3.9', '/Users/yue/miniconda3/lib/python3.9/lib-dynload', '', '/Users/yue/miniconda3/lib/python3.9/site-packages', '/Users/yue/miniconda3/lib/python3.9/site-packages/canon_cr3-13mar2019-py3.9.egg', '/Users/yue/miniconda3/lib/python3.9/site-packages/certifi-2022.12.7-py3.9.egg', '../']\n"
     ]
    }
   ],
   "source": [
    "# append your current parent dir to the sys.path list\n",
    "sys.path.append(\"../\")\n",
    "\n",
    "# show the updated sys.path \n",
    "print(sys.path)"
   ]
  },
  {
   "cell_type": "markdown",
   "id": "6f131ba0",
   "metadata": {},
   "source": [
    "Any folder that is located inside of one of the folders listed above can be imported. The mypackage folder is located in the filepath that we appended to the end of the list (../). This will make the following import statements available to us that will allow us to access the magic_eight_ball() function in the mymodule script. You can test this from your notebook, and you can also explore what is accessible to import from each object by using tab-completion."
   ]
  },
  {
   "cell_type": "code",
   "execution_count": 23,
   "id": "25a8f9fb",
   "metadata": {},
   "outputs": [
    {
     "data": {
      "text/plain": [
       "'Reply hazy, try again.'"
      ]
     },
     "execution_count": 23,
     "metadata": {},
     "output_type": "execute_result"
    }
   ],
   "source": [
    "import mypackage.mymodule\n",
    "mypackage.mymodule.magic_eight_ball()"
   ]
  },
  {
   "cell_type": "code",
   "execution_count": 24,
   "id": "41d618e1",
   "metadata": {},
   "outputs": [
    {
     "data": {
      "text/plain": [
       "'Better not tell you now.'"
      ]
     },
     "execution_count": 24,
     "metadata": {},
     "output_type": "execute_result"
    }
   ],
   "source": [
    "from mypackage import mymodule\n",
    "mymodule.magic_eight_ball()"
   ]
  },
  {
   "cell_type": "code",
   "execution_count": 25,
   "id": "b2a7af11",
   "metadata": {},
   "outputs": [
    {
     "data": {
      "text/plain": [
       "'It is decidedly so.'"
      ]
     },
     "execution_count": 25,
     "metadata": {},
     "output_type": "execute_result"
    }
   ],
   "source": [
    "from mypackage.mymodule import magic_eight_ball\n",
    "magic_eight_ball()"
   ]
  },
  {
   "cell_type": "code",
   "execution_count": 26,
   "id": "f18efa93",
   "metadata": {},
   "outputs": [
    {
     "data": {
      "text/plain": [
       "'Yes – definitely.'"
      ]
     },
     "execution_count": 26,
     "metadata": {},
     "output_type": "execute_result"
    }
   ],
   "source": [
    "import mypackage\n",
    "mypackage.mymodule.magic_eight_ball()"
   ]
  },
  {
   "cell_type": "code",
   "execution_count": null,
   "id": "2ee9fe9f",
   "metadata": {},
   "outputs": [],
   "source": []
  }
 ],
 "metadata": {
  "kernelspec": {
   "display_name": "Python 3 (ipykernel)",
   "language": "python",
   "name": "python3"
  },
  "language_info": {
   "codemirror_mode": {
    "name": "ipython",
    "version": 3
   },
   "file_extension": ".py",
   "mimetype": "text/x-python",
   "name": "python",
   "nbconvert_exporter": "python",
   "pygments_lexer": "ipython3",
   "version": "3.9.9"
  }
 },
 "nbformat": 4,
 "nbformat_minor": 5
}
